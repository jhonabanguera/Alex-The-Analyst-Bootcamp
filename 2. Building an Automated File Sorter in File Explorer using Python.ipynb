{
 "cells": [
  {
   "cell_type": "markdown",
   "id": "82859e63",
   "metadata": {},
   "source": [
    "# Automatic File Sorter in File Explorer"
   ]
  },
  {
   "cell_type": "code",
   "execution_count": 25,
   "id": "a2f36477",
   "metadata": {},
   "outputs": [],
   "source": [
    "import os, shutil"
   ]
  },
  {
   "cell_type": "code",
   "execution_count": 26,
   "id": "3625b14c",
   "metadata": {},
   "outputs": [],
   "source": [
    "path = r'C:/Users/user/Pictures/'"
   ]
  },
  {
   "cell_type": "code",
   "execution_count": 27,
   "id": "0783d4c6",
   "metadata": {},
   "outputs": [],
   "source": [
    "file_names = os.listdir(path)"
   ]
  },
  {
   "cell_type": "code",
   "execution_count": 28,
   "id": "05c5a556",
   "metadata": {},
   "outputs": [
    {
     "name": "stdout",
     "output_type": "stream",
     "text": [
      "C:/Users/user/Pictures/csv files\n",
      "C:/Users/user/Pictures/image files\n",
      "C:/Users/user/Pictures/text files\n"
     ]
    }
   ],
   "source": [
    "folder_names = ['csv files', 'image files', 'text files']\n",
    "\n",
    "#Check for the folders to see if they are created, if not the get created\n",
    "for loop in range(0,3):\n",
    "    if not os.path.exists(path + folder_names[loop]):\n",
    "        print(path + folder_names[loop])\n",
    "        os.makedirs((path + folder_names[loop]))\n",
    "        \n",
    "#Checks for every file, if the file is already in the folder doesn't do anything\n",
    "#but if it isn't is going to move it to the corresponding folder\n",
    "for file in file_names:\n",
    "    if \".csv\" in file and not os.path.exists(path + \"csv files/\" + file):\n",
    "        shutil.move(path + file, path + \"csv files/\" + file)\n",
    "        \n",
    "    if \".PNG\" in file and not os.path.exists(path + \"image files/\" + file):\n",
    "        shutil.move(path + file, path + \"image files/\" + file)\n",
    "        \n",
    "    if \".jpg\" in file and not os.path.exists(path + \"image files/\" + file):\n",
    "        shutil.move(path + file, path + \"image files/\" + file)\n",
    "        \n",
    "    if \".txt\" in file and not os.path.exists(path + \"text files/\" + file):\n",
    "        shutil.move(path + file, path + \"text files/\" + file)"
   ]
  },
  {
   "cell_type": "code",
   "execution_count": 24,
   "id": "bc19f203",
   "metadata": {},
   "outputs": [],
   "source": []
  },
  {
   "cell_type": "code",
   "execution_count": null,
   "id": "49aff9dd",
   "metadata": {},
   "outputs": [],
   "source": []
  }
 ],
 "metadata": {
  "kernelspec": {
   "display_name": "Python 3 (ipykernel)",
   "language": "python",
   "name": "python3"
  },
  "language_info": {
   "codemirror_mode": {
    "name": "ipython",
    "version": 3
   },
   "file_extension": ".py",
   "mimetype": "text/x-python",
   "name": "python",
   "nbconvert_exporter": "python",
   "pygments_lexer": "ipython3",
   "version": "3.8.5"
  }
 },
 "nbformat": 4,
 "nbformat_minor": 5
}
